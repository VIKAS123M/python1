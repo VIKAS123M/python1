{
  "nbformat": 4,
  "nbformat_minor": 0,
  "metadata": {
    "colab": {
      "name": "Welcome To Colaboratory",
      "version": "0.3.2",
      "provenance": [],
      "collapsed_sections": [],
      "toc_visible": true,
      "include_colab_link": true
    },
    "kernelspec": {
      "display_name": "Python 3",
      "name": "python3"
    }
  },
  "cells": [
    {
      "cell_type": "markdown",
      "metadata": {
        "id": "view-in-github",
        "colab_type": "text"
      },
      "source": [
        "<a href=\"https://colab.research.google.com/github/VIKAS123M/python1/blob/master/Welcome_To_Colaboratory.ipynb\" target=\"_parent\"><img src=\"https://colab.research.google.com/assets/colab-badge.svg\" alt=\"Open In Colab\"/></a>"
      ]
    },
    {
      "cell_type": "code",
      "metadata": {
        "id": "ULCFEWjLTqcD",
        "colab_type": "code",
        "colab": {
          "base_uri": "https://localhost:8080/",
          "height": 129
        },
        "outputId": "23bfca79-f40c-461c-c370-d6807d7590ed"
      },
      "source": [
        "class classname:\n",
        "  # some functions and variables\n",
        "  # function -- used to perform the specific activity\n",
        "  # variables -- Data(memory)"
      ],
      "execution_count": 1,
      "outputs": [
        {
          "output_type": "error",
          "ename": "SyntaxError",
          "evalue": "ignored",
          "traceback": [
            "\u001b[0;36m  File \u001b[0;32m\"<ipython-input-1-f5879022241d>\"\u001b[0;36m, line \u001b[0;32m4\u001b[0m\n\u001b[0;31m    # variables -- Data(memory)\u001b[0m\n\u001b[0m                               ^\u001b[0m\n\u001b[0;31mSyntaxError\u001b[0m\u001b[0;31m:\u001b[0m unexpected EOF while parsing\n"
          ]
        }
      ]
    },
    {
      "cell_type": "code",
      "metadata": {
        "id": "PJJnLsF1UJPS",
        "colab_type": "code",
        "colab": {}
      },
      "source": [
        "def test():\n",
        "  print('Test() for function')\n",
        "  return\n",
        "test()"
      ],
      "execution_count": 0,
      "outputs": []
    },
    {
      "cell_type": "code",
      "metadata": {
        "id": "0EyvGH5SUNM6",
        "colab_type": "code",
        "colab": {}
      },
      "source": [
        "class demo:\n",
        "  def test(self):\n",
        "    print('test() for the class and method')\n",
        "    return\n",
        "obj=demo() #object creation\n",
        "obj.test() #call for the method"
      ],
      "execution_count": 0,
      "outputs": []
    },
    {
      "cell_type": "code",
      "metadata": {
        "id": "F0mwka-aUS16",
        "colab_type": "code",
        "colab": {}
      },
      "source": [
        "class demo1:\n",
        "  def fact(self,n):\n",
        "    fact=1\n",
        "    while(n!=0):\n",
        "      fact=fact*n\n",
        "      n=n-1\n",
        "    return fact\n",
        "p1=demo1()\n",
        "print(p1.fact(5))"
      ],
      "execution_count": 0,
      "outputs": []
    },
    {
      "cell_type": "code",
      "metadata": {
        "id": "NBDWKdYQUT2S",
        "colab_type": "code",
        "colab": {}
      },
      "source": [
        "class demo2:\n",
        "  def accept(self,p1,p2):\n",
        "    self.p2=p1\n",
        "    self.p2=p2\n",
        "    return\n",
        "  def display(self):\n",
        "    print('p1= ',p1)\n",
        "    print('p2= ',p2)\n",
        "c1=demo2()\n",
        "c1.accept(10,20)\n",
        "c1.display()"
      ],
      "execution_count": 0,
      "outputs": []
    },
    {
      "cell_type": "code",
      "metadata": {
        "id": "neAM8pIzUXA6",
        "colab_type": "code",
        "colab": {}
      },
      "source": [
        "class demo2:\n",
        "  def __init__(self,p1,p2):\n",
        "    self.p1=p1\n",
        "    self.p2=p2\n",
        "  def add(self,p1,p2):\n",
        "    return p1 + p2\n",
        "c1=demo2(10,20)\n",
        "print(c1.add(100,200))"
      ],
      "execution_count": 0,
      "outputs": []
    },
    {
      "cell_type": "code",
      "metadata": {
        "id": "mAmZNPiGUZlB",
        "colab_type": "code",
        "colab": {}
      },
      "source": [
        "import numpy as np\n",
        "lst=[1,2,3,4]\n",
        "array=np.array(lst)\n",
        "print(array)"
      ],
      "execution_count": 0,
      "outputs": []
    },
    {
      "cell_type": "code",
      "metadata": {
        "id": "baM7T0xGUeOJ",
        "colab_type": "code",
        "colab": {}
      },
      "source": [
        "lst=[1,2,3,4]\n",
        "array=np.array(lst)\n",
        "print(array.shape)\n",
        "print(array.dtype)"
      ],
      "execution_count": 0,
      "outputs": []
    },
    {
      "cell_type": "code",
      "metadata": {
        "id": "meK0Y9MXUfIy",
        "colab_type": "code",
        "colab": {}
      },
      "source": [
        "lst=[1.0,2.5,3.6,9.5]\n",
        "array=np.array(lst)lst=[1,2,3,4]\n",
        "array=np.array(lst)"
      ],
      "execution_count": 0,
      "outputs": []
    },
    {
      "cell_type": "code",
      "metadata": {
        "id": "eGqKroixUwuQ",
        "colab_type": "code",
        "colab": {}
      },
      "source": [
        "a1 = np.array([(1,2,3),(4,5,6)])\n",
        "print(a1.shape)\n",
        "a2 = np.array([(1,2),(3,4),(5,6)])\n",
        "print(a2.shape)"
      ],
      "execution_count": 0,
      "outputs": []
    },
    {
      "cell_type": "code",
      "metadata": {
        "id": "QfS30mevU8gg",
        "colab_type": "code",
        "colab": {}
      },
      "source": [
        "#Append some data -- Horizontally\n",
        "#hstack(array1,array2) -- will be automatically arranged in horizontal\n",
        "a1=np.array([1,2,3])\n",
        "a2=np.array([4,5,6])\n",
        "print(np.hstack((a1,a2)))"
      ],
      "execution_count": 0,
      "outputs": []
    },
    {
      "cell_type": "code",
      "metadata": {
        "id": "fWld0blqVA_6",
        "colab_type": "code",
        "colab": {}
      },
      "source": [
        "A=np.matrix(np.ones((4,4),dtype=np.int64))\n",
        "np.asarray(A)[2]=5\n",
        "print(A)"
      ],
      "execution_count": 0,
      "outputs": []
    },
    {
      "cell_type": "code",
      "metadata": {
        "id": "L1V818hvVDrp",
        "colab_type": "code",
        "colab": {}
      },
      "source": [
        "A=np.matrix(np.ones((4,4),dtype=np.int64))\n",
        "np.asarray(A)[1][3]=14\n",
        "np.asarray(A)[3][3]=16\n",
        "print(A)"
      ],
      "execution_count": 0,
      "outputs": []
    },
    {
      "cell_type": "code",
      "metadata": {
        "id": "DpheFLnCVNsZ",
        "colab_type": "code",
        "colab": {}
      },
      "source": [
        "#arrange() -- particular\n",
        "#numpy.arrange(start,end,step)\n",
        "#start -- value\n",
        "#end -- value\n",
        "#step -- Gap between one value to another value\n",
        "import numpy as np\n",
        "np.arange(1,10)"
      ],
      "execution_count": 0,
      "outputs": []
    },
    {
      "cell_type": "code",
      "metadata": {
        "id": "VGcGhFDgVRAK",
        "colab_type": "code",
        "colab": {}
      },
      "source": [
        "# Multiplication of 1D arrays\n",
        "# numpy.dot(x,y) --\n",
        "c1=np.array([1,2])\n",
        "c2=np.array([4,5])\n",
        "np.dot(c1,c2)"
      ],
      "execution_count": 0,
      "outputs": []
    },
    {
      "cell_type": "code",
      "metadata": {
        "id": "t-BK10OMVUwI",
        "colab_type": "code",
        "colab": {}
      },
      "source": [
        "c1=np.array([(1,2),(3,4)])\n",
        "c2=np.array([(3,4),(1,2)])\n",
        "np.dot(c1,c2)"
      ],
      "execution_count": 0,
      "outputs": []
    },
    {
      "cell_type": "code",
      "metadata": {
        "id": "aFTwFqmXVaEo",
        "colab_type": "code",
        "colab": {}
      },
      "source": [
        "import pandas as pd\n",
        "dict={'Name':['vikas'],'EmailID':['vikas@gmail.com'],'MobileNumber':['84854','65956'],'Address':\n",
        "     ['Hyd','Hyd']}\n",
        "b=pd.DataFrame(dict)\n",
        "print(b)"
      ],
      "execution_count": 0,
      "outputs": []
    },
    {
      "cell_type": "code",
      "metadata": {
        "id": "gLgrxLBPVeVA",
        "colab_type": "code",
        "colab": {}
      },
      "source": [
        "# supermarket.csv -- Analysis (Which product having higher % of selling)\n",
        "# Which products having least selling %\n",
        "import pandas as pd\n",
        "products=pd.read_csv('FileName.csv')\n",
        "print(products)"
      ],
      "execution_count": 0,
      "outputs": []
    },
    {
      "cell_type": "code",
      "metadata": {
        "id": "cvuT1AtdVrjo",
        "colab_type": "code",
        "colab": {}
      },
      "source": [
        "import pandas as pd\n",
        "product_sellingdata=pd.read_csv('FileName.csv',index_col=1)\n",
        "print(product_sellingdata)"
      ],
      "execution_count": 0,
      "outputs": []
    }
  ]
}