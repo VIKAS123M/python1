{
  "nbformat": 4,
  "nbformat_minor": 0,
  "metadata": {
    "colab": {
      "name": "Welcome To Colaboratory",
      "version": "0.3.2",
      "provenance": [],
      "collapsed_sections": [],
      "toc_visible": true,
      "include_colab_link": true
    },
    "kernelspec": {
      "display_name": "Python 3",
      "name": "python3"
    }
  },
  "cells": [
    {
      "cell_type": "markdown",
      "metadata": {
        "id": "view-in-github",
        "colab_type": "text"
      },
      "source": [
        "<a href=\"https://colab.research.google.com/github/VIKAS123M/python1/blob/master/Welcome_To_Colaboratory.ipynb\" target=\"_parent\"><img src=\"https://colab.research.google.com/assets/colab-badge.svg\" alt=\"Open In Colab\"/></a>"
      ]
    },
    {
      "cell_type": "code",
      "metadata": {
        "id": "uXBndUDlqHoH",
        "colab_type": "code",
        "colab": {}
      },
      "source": [
        "def printEven(n):\n",
        "  cnt = 0;\n",
        "  sum = 0;\n",
        "  while(cn!=n):\n",
        "    if(cnt%2==0):\n",
        "      sum = sum + cnt;\n",
        "    cnt = cnt + 1;\n",
        "  return sum;\n",
        "\n",
        "  print(printEven(20));"
      ],
      "execution_count": 0,
      "outputs": []
    },
    {
      "cell_type": "markdown",
      "metadata": {
        "id": "UjHC1h2krrfQ",
        "colab_type": "text"
      },
      "source": [
        "#4Example Functional Programming"
      ]
    },
    {
      "cell_type": "code",
      "metadata": {
        "id": "hOSmk3Tnr2lf",
        "colab_type": "code",
        "colab": {
          "base_uri": "https://localhost:8080/",
          "height": 34
        },
        "outputId": "4603fdd7-4982-4de3-e9d8-8a2bca950b84"
      },
      "source": [
        "def factorslist(n):\n",
        "  i=1;\n",
        "  while(i!=n):\n",
        "    if(n%i==0):\n",
        "      print(i,end= \"\");\n",
        "    i = i+1;\n",
        "  return ;\n",
        "\n",
        "factorslist(12);"
      ],
      "execution_count": 11,
      "outputs": [
        {
          "output_type": "stream",
          "text": [
            "12346"
          ],
          "name": "stdout"
        }
      ]
    },
    {
      "cell_type": "markdown",
      "metadata": {
        "id": "pXL-v9wDtJ_m",
        "colab_type": "text"
      },
      "source": [
        "#5 Example Loop\n"
      ]
    },
    {
      "cell_type": "code",
      "metadata": {
        "id": "_RJzY3RNxG7Y",
        "colab_type": "code",
        "colab": {
          "base_uri": "https://localhost:8080/",
          "height": 51
        },
        "outputId": "21ede32f-67f8-40be-fdc6-6c8cff0cac92"
      },
      "source": [
        "list1=[1,2,3,4,5];\n",
        "print(list1)\n",
        "print(list1[0])"
      ],
      "execution_count": 24,
      "outputs": [
        {
          "output_type": "stream",
          "text": [
            "[1, 2, 3, 4, 5]\n",
            "1\n"
          ],
          "name": "stdout"
        }
      ]
    },
    {
      "cell_type": "markdown",
      "metadata": {
        "id": "_1ut4JJtxmkN",
        "colab_type": "text"
      },
      "source": [
        "#6 Example loop 2"
      ]
    },
    {
      "cell_type": "code",
      "metadata": {
        "id": "hwDOYuaxxsdU",
        "colab_type": "code",
        "colab": {
          "base_uri": "https://localhost:8080/",
          "height": 34
        },
        "outputId": "bc6b5498-c5d7-4bc4-e70a-436426199543"
      },
      "source": [
        "list2 = (\"Anil\",\"Arvind\",\"Akhil\",\"Akash\");\n",
        "for x in list2:\n",
        "    print(x,end=\"\")"
      ],
      "execution_count": 27,
      "outputs": [
        {
          "output_type": "stream",
          "text": [
            "AnilArvindAkhilAkash"
          ],
          "name": "stdout"
        }
      ]
    },
    {
      "cell_type": "markdown",
      "metadata": {
        "id": "YBTu956eyeRM",
        "colab_type": "text"
      },
      "source": [
        "#Example "
      ]
    },
    {
      "cell_type": "code",
      "metadata": {
        "id": "TJzUFW-Zyi4r",
        "colab_type": "code",
        "colab": {
          "base_uri": "https://localhost:8080/",
          "height": 51
        },
        "outputId": "0839c491-a75a-47c6-f96f-4969ce897732"
      },
      "source": [
        "list1=[1,2,3,4,5,6,7]\n",
        "for x in list1:\n",
        "  print(x , end=\" \")\n",
        "  \n",
        "print();\n",
        "print(list1[4])"
      ],
      "execution_count": 28,
      "outputs": [
        {
          "output_type": "stream",
          "text": [
            "1 2 3 4 5 6 7 \n",
            "5\n"
          ],
          "name": "stdout"
        }
      ]
    },
    {
      "cell_type": "markdown",
      "metadata": {
        "id": "6jy8dcfIz2Ca",
        "colab_type": "text"
      },
      "source": [
        "#Example"
      ]
    },
    {
      "cell_type": "code",
      "metadata": {
        "id": "Nhw6Xmd5z5Uy",
        "colab_type": "code",
        "colab": {
          "base_uri": "https://localhost:8080/",
          "height": 119
        },
        "outputId": "4e8816b9-b94d-4331-f1ae-4b1eb9716276"
      },
      "source": [
        "list1=[1,2,3,4,5,6,7]\n",
        "for x in list1:\n",
        "  print(x,end=\" \")\n",
        "  \n",
        "print()\n",
        "print(list1[4])\n",
        "print(list1[3:7])\n",
        "print(list1[0:3])\n",
        "print(list1[:3])\n",
        "print(list1[:7])"
      ],
      "execution_count": 30,
      "outputs": [
        {
          "output_type": "stream",
          "text": [
            "1 2 3 4 5 6 7 \n",
            "5\n",
            "[4, 5, 6, 7]\n",
            "[1, 2, 3]\n",
            "[1, 2, 3]\n",
            "[1, 2, 3, 4, 5, 6, 7]\n"
          ],
          "name": "stdout"
        }
      ]
    },
    {
      "cell_type": "markdown",
      "metadata": {
        "id": "IsJpaqP61uSG",
        "colab_type": "text"
      },
      "source": [
        "#Example"
      ]
    },
    {
      "cell_type": "code",
      "metadata": {
        "id": "XRoDxVrZ1y9f",
        "colab_type": "code",
        "colab": {
          "base_uri": "https://localhost:8080/",
          "height": 85
        },
        "outputId": "7ba83d5c-7daa-4b85-f764-2cea03893e4d"
      },
      "source": [
        "list1=[1,2,3,4,5,6,7]\n",
        "for x in list1:\n",
        "  print(x,end=\" \")\n",
        "  \n",
        "print();\n",
        "print(list1[1:-1])\n",
        "print(list1[:-8])\n",
        "print(list1[:-4])"
      ],
      "execution_count": 32,
      "outputs": [
        {
          "output_type": "stream",
          "text": [
            "1 2 3 4 5 6 7 \n",
            "[2, 3, 4, 5, 6]\n",
            "[]\n",
            "[1, 2, 3]\n"
          ],
          "name": "stdout"
        }
      ]
    },
    {
      "cell_type": "markdown",
      "metadata": {
        "id": "92WHS18S5yN2",
        "colab_type": "text"
      },
      "source": [
        "#Example"
      ]
    },
    {
      "cell_type": "code",
      "metadata": {
        "id": "J-cqewd753jI",
        "colab_type": "code",
        "colab": {
          "base_uri": "https://localhost:8080/",
          "height": 51
        },
        "outputId": "0082e722-13f0-434c-efcd-6cbb7f8d716f"
      },
      "source": [
        "list1=[\"anil\",\"sai kumar\",\"akash\"]\n",
        "print(list1)\n",
        "list1[2]=15\n",
        "print(list1)"
      ],
      "execution_count": 33,
      "outputs": [
        {
          "output_type": "stream",
          "text": [
            "['anil', 'sai kumar', 'akash']\n",
            "['anil', 'sai kumar', 15]\n"
          ],
          "name": "stdout"
        }
      ]
    }
  ]
}